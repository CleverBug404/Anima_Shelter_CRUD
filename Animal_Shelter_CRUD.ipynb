{
 "cells": [
  {
   "cell_type": "code",
   "execution_count": 16,
   "id": "e0cb6280",
   "metadata": {},
   "outputs": [
    {
     "name": "stdout",
     "output_type": "stream",
     "text": [
      "Requirement already satisfied: pymongo in c:\\users\\pixel\\anaconda3\\lib\\site-packages (4.2.0)\n",
      "Requirement already satisfied: bson in c:\\users\\pixel\\anaconda3\\lib\\site-packages (0.5.10)\n",
      "Requirement already satisfied: python-dateutil>=2.4.0 in c:\\users\\pixel\\anaconda3\\lib\\site-packages (from bson) (2.8.2)\n",
      "Requirement already satisfied: six>=1.9.0 in c:\\users\\pixel\\anaconda3\\lib\\site-packages (from bson) (1.16.0)\n",
      "Requirement already satisfied: prettyprinter in c:\\users\\pixel\\anaconda3\\lib\\site-packages (0.18.0)\n",
      "Requirement already satisfied: colorful>=0.4.0 in c:\\users\\pixel\\anaconda3\\lib\\site-packages (from prettyprinter) (0.5.4)\n",
      "Requirement already satisfied: Pygments>=2.2.0 in c:\\users\\pixel\\anaconda3\\lib\\site-packages (from prettyprinter) (2.11.2)\n",
      "Requirement already satisfied: colorama in c:\\users\\pixel\\anaconda3\\lib\\site-packages (from colorful>=0.4.0->prettyprinter) (0.4.4)\n"
     ]
    }
   ],
   "source": [
    "!pip install pymongo \n",
    "!pip install bson\n",
    "!pip install prettyprinter"
   ]
  },
  {
   "cell_type": "code",
   "execution_count": 45,
   "id": "fb5ef402",
   "metadata": {},
   "outputs": [],
   "source": [
    "from pymongo import MongoClient\n",
    "from bson.objectid import ObjectId\n",
    "from pprint import pprint"
   ]
  },
  {
   "cell_type": "markdown",
   "id": "862ca791",
   "metadata": {},
   "source": [
    "Place-holder variables have not been set up.\n",
    "\n",
    "{\n",
    "    userCreateData, \n",
    "    userSearchTarget, \n",
    "    userUpdateFromTarget, \n",
    "    userUpdateToTarget, \n",
    "    userDeleteTarget \n",
    "}"
   ]
  },
  {
   "cell_type": "code",
   "execution_count": null,
   "id": "0768cd17",
   "metadata": {},
   "outputs": [],
   "source": [
    "class AnimalShelter(object):\n",
    "    \"\"\"CRUD Ops for Anima collection in MongoDB\"\"\"\n",
    "    #Initializing the mongo client\n",
    "    #access the mongoDB databases and collections\n",
    "    def __init__(self, user, password):\n",
    "        self.client = MongoClient('mongodb://%s:%s@localhost:xxxxx/AAC' % (user, password))\n",
    "        self.database = self.client['AAC']\n",
    "        \n",
    "    #Get Create data from users\n",
    "    def obtainCreatedata(self):\n",
    "        #table that ensures the expected format\n",
    "        values = ['1','age_upon_outcome', 'anumal_id','animal_type','breed','color','date_of_birth', 'datetime',\n",
    "                 'monthyear','name','outcome_subtype','outcome_type', 'sex_upon_outcome', 'location_lat', 'location_long','age_upon_outcome_in_weeks']\n",
    "        #loop to obtain input values from the user\n",
    "        for i in range (len(values)):\n",
    "            key = values[i]\n",
    "            value = input(\"enter the \" + values[i] + \": \")\n",
    "            userCreateData.update({key: value})\n",
    "    \n",
    "#Create Operation\n",
    "    def create(self, data):\n",
    "        #try and except block for boolean processing\n",
    "        try:\n",
    "            if data is not None:\n",
    "                #data should be a dictionary\n",
    "                insert_result = self.database.animals.insert_one(data)\n",
    "                pprint(insert_result)\n",
    "                return True #gives the value for the boolean requirement\n",
    "            else:\n",
    "                #pront the users that there was an error\n",
    "                raise Exception(\"data was not save because there was an empty parameter\")\n",
    "        except:\n",
    "            return False  #gives the value for the boolean requirement\n",
    "        \n",
    "    #Get target data to Remove\n",
    "    def getReadData(self):\n",
    "        #Loop to get a ket:value pair\n",
    "        for i in range(1):\n",
    "            key=input(\"Enter search key: \")\n",
    "            value = input(\"Enter search value: \")\n",
    "            userSearchTarget.update({key:value}) #creates a dictionary to hold the search terms\n",
    "            \n",
    "#Read operation\n",
    "    def read(self, target):\n",
    "        try:\n",
    "            if target is not None:\n",
    "                #print(type(target)) # the target should be a dictionary - confirmed\n",
    "                read_result = list(self.database.animals.find(target, {\"_id\":False}))\n",
    "                #pprint(read_result) #display the results in the console\n",
    "                return read_result\n",
    "            else:\n",
    "                #pront the users that there was an error\n",
    "                raise Exception(\"Not searched data due to empty parameters\")\n",
    "                return False\n",
    "        except Exception as e:\n",
    "            print(\"An exception occured: \", e)\n",
    "            \n",
    "    #Get data to update\n",
    "    def getUpdateData(self):\n",
    "        #loop to get the key value pair\n",
    "        for i in range(1):\n",
    "            key = input(\"Enter update key: \")\n",
    "            value = input(\"Enter update value: \")\n",
    "        userUpdateFromTarget.update({key:value})\n",
    "        #get new data to replace target to \n",
    "        for i in range(1):\n",
    "            key = input(\"Enter update key: \")\n",
    "            value = input (\"Enter update value: \")\n",
    "        userUpdateToTarget.update({'$set': {key: value}})\n",
    "        print(userupdateToTarget)\n",
    "        \n",
    "#Update operation\n",
    "    def update(self, fromTarget, toTarget, count):\n",
    "        if fromTarget is not None:\n",
    "            if count == 1:\n",
    "                update_result = self.database.animals.update_one(fromTarget, toTarget)\n",
    "                pprint(\"Marched count: \" + str(update_result.matched_count)+ \", Modified count: \" + str(update_result.modified_count))\n",
    "                if update_result.modified_count == 1:\n",
    "                    print(\"Success!\")\n",
    "                    print(\"update_result\")\n",
    "                    return True\n",
    "                else:\n",
    "                    print(\"Something went wrong\")\n",
    "                    return False\n",
    "            elif count == 2:\n",
    "                update_result = self.database.animals.update_many(fromTarget, toTarget)\n",
    "                pprint(\"Match count: \"+ str(update_result.match_count) + \", Modified Count: \" + str(update_result.modified_count))\n",
    "                if update_result.modified_count == update_result.matched_count:\n",
    "                    print(\"Success!\")\n",
    "                    print(update_result)\n",
    "                    return True\n",
    "                else:\n",
    "                    print(\"Something went wrong, Not all matching items might be updated. Run search to verify.\")\n",
    "                    print(update_result)\n",
    "                    return False\n",
    "            else:\n",
    "                print(\"Count is not recognized... Try again.\")\n",
    "                return False\n",
    "        else:\n",
    "            raise Exception(\"Nothing to update due to empty target parameter.\")\n",
    "            return False\n",
    "    \n",
    "    #Get target data to delete\n",
    "    def obtainDeleteData(self):\n",
    "        for i in range(1):\n",
    "            key = input(\"Enter delete key: \")\n",
    "            value = input(\"Enter delete value: \")\n",
    "            userDeleteTarget.update({key:value})\n",
    "#Delete method\n",
    "    def deleteData(self, target, count):\n",
    "        if target is not None:\n",
    "            if count ==1:\n",
    "                try:\n",
    "                    delete_result = self.database.animals.delete_one(target)\n",
    "                    pprint(\"Delete  Count: \" + str(delete_result.delete_count))\n",
    "                    if delete_result.deleted_count == 0:\n",
    "                        print(\"Nothing was deleted using the target data.\")\n",
    "                        print(delete_result)\n",
    "                        return True\n",
    "                    else:\n",
    "                        print(\"success!\")\n",
    "                        print(delete_result)\n",
    "                        return True\n",
    "                except Exception as e:\n",
    "                    print(\"An exception has occurred: \", e)\n",
    "            elif count == 2:\n",
    "                try:\n",
    "                    delete_result = self.database.animals.delete_many(target)\n",
    "                    pprint(\"Deleted Count: \" + str(delete_result.deleted_count))\n",
    "                    if delete_result.delete_count == 0:\n",
    "                        print(\"Nothing was deleted using the target data.\")\n",
    "                        print(delete_result)\n",
    "                        return True\n",
    "                    else:\n",
    "                        print(\"Success!\")\n",
    "                        print(delete_result)\n",
    "                        return True\n",
    "                except Exception as e:\n",
    "                    print(\"An exception has occured... Try again\")\n",
    "                    return False\n",
    "            else:\n",
    "                raise Exception(\"Nothing deleted due to an empty parameter\")\n",
    "                return False\n",
    "                \n",
    "                            \n",
    "    "
   ]
  },
  {
   "cell_type": "code",
   "execution_count": null,
   "id": "969cf3b6",
   "metadata": {},
   "outputs": [],
   "source": [
    "#Sample data set for Create method\n",
    "sampleData = {\n",
    "    '1':3,\n",
    "    'age_upon_outcome':'35 years',\n",
    "    'animal_id':'AAA',\n",
    "    'animal_type': 'Dogecoin',\n",
    "    'breed': 'crypto',\n",
    "    'color': 'green',\n",
    "    'date_of_birth': 'wonder-years',\n",
    "    'datetime': '2020-05-10 10:49:00',\n",
    "    'monthyear': '2020-05-10T10:49:00',\n",
    "    'name': 'monkeyboy',\n",
    "    'outcome_subtype': 'SCRP',\n",
    "    'outcome_type': 'super-transfer',\n",
    "    'sex_upon_outcome': 'non-spayed',\n",
    "    'location_lat': 30.6525984,\n",
    "    'location_long': -97.74199,\n",
    "    'age_upon_outcome_in_weeks': '450.454'\n",
    "}"
   ]
  },
  {
   "cell_type": "code",
   "execution_count": null,
   "id": "5cb7d62f",
   "metadata": {},
   "outputs": [],
   "source": [
    "#Sample search term\n",
    "sampleTarget = {\n",
    "    'animal_type':'Draco'\n",
    "} "
   ]
  },
  {
   "cell_type": "code",
   "execution_count": null,
   "id": "5569a03c",
   "metadata": {},
   "outputs": [],
   "source": [
    "#Sample update element\n",
    "sampleUpdate ={'$set': {'name':'42'}}"
   ]
  },
  {
   "cell_type": "code",
   "execution_count": null,
   "id": "da2b43b7",
   "metadata": {},
   "outputs": [],
   "source": [
    "sampleUpdateTwoFields={'$set':{\n",
    "    'name':'42',\n",
    "    'animal_type': 'Jaguar'\n",
    "}}"
   ]
  },
  {
   "cell_type": "code",
   "execution_count": null,
   "id": "c3cd189a",
   "metadata": {},
   "outputs": [],
   "source": [
    "#sample delete\n",
    "sampleDelete = {\n",
    "    'name': 'Zz'\n",
    "}"
   ]
  },
  {
   "cell_type": "code",
   "execution_count": null,
   "id": "96a95d63",
   "metadata": {},
   "outputs": [
    {
     "name": "stdout",
     "output_type": "stream",
     "text": [
      "{'1': 3,\n",
      " 'age_upon_outcome': '35 years',\n",
      " 'age_upon_outcome_in_weeks': '450.454',\n",
      " 'animal_id': 'AAA',\n",
      " 'animal_type': 'Dogecoin',\n",
      " 'breed': 'crypto',\n",
      " 'color': 'green',\n",
      " 'date_of_birth': 'wonder-years',\n",
      " 'datetime': '2020-05-10 10:49:00',\n",
      " 'location_lat': 30.6525984,\n",
      " 'location_long': -97.74199,\n",
      " 'monthyear': '2020-05-10T10:49:00',\n",
      " 'name': 'monkeyboy',\n",
      " 'outcome_subtype': 'SCRP',\n",
      " 'outcome_type': 'super-transfer',\n",
      " 'sex_upon_outcome': 'non-spayed'}\n"
     ]
    }
   ],
   "source": [
    "pprint(sampleData)"
   ]
  },
  {
   "cell_type": "code",
   "execution_count": null,
   "id": "94e639cd",
   "metadata": {},
   "outputs": [],
   "source": []
  }
 ],
 "metadata": {
  "kernelspec": {
   "display_name": "Python 3.9.13 64-bit (microsoft store)",
   "language": "python",
   "name": "python3"
  },
  "language_info": {
   "codemirror_mode": {
    "name": "ipython",
    "version": 3
   },
   "file_extension": ".py",
   "mimetype": "text/x-python",
   "name": "python",
   "nbconvert_exporter": "python",
   "pygments_lexer": "ipython3",
   "version": "3.9.13"
  },
  "vscode": {
   "interpreter": {
    "hash": "af0832521422eb62f140a8696036a60acc384c1ff8424beae7a807f46f6759ba"
   }
  }
 },
 "nbformat": 4,
 "nbformat_minor": 5
}
